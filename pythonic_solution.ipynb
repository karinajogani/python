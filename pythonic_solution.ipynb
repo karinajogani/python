{
 "cells": [
  {
   "cell_type": "code",
   "execution_count": 4,
   "metadata": {},
   "outputs": [
    {
     "name": "stdout",
     "output_type": "stream",
     "text": [
      "same\n",
      "same\n"
     ]
    }
   ],
   "source": [
    "a,b = 5,5\n",
    "\n",
    "print(\"same\") if a == 5 and b == 5 else print(\"different\")\n",
    "\n",
    "print(\"same\") if a==b==5 else print(\"different\")"
   ]
  },
  {
   "cell_type": "code",
   "execution_count": 5,
   "metadata": {},
   "outputs": [
    {
     "name": "stdout",
     "output_type": "stream",
     "text": [
      "0\n",
      "1\n",
      "2\n",
      "3\n",
      "4\n",
      "5\n"
     ]
    }
   ],
   "source": [
    "for i in [0, 1, 2, 3, 4, 5]:\n",
    "    print(i)\n",
    "    \n",
    "for i in range(6):\n",
    "    print(i)"
   ]
  },
  {
   "cell_type": "code",
   "execution_count": 8,
   "metadata": {},
   "outputs": [
    {
     "name": "stdout",
     "output_type": "stream",
     "text": [
      "apples\n",
      "bananas\n",
      "grapes\n",
      "tomatos\n",
      "apples\n",
      "bananas\n",
      "grapes\n",
      "tomatos\n"
     ]
    }
   ],
   "source": [
    "fruits = [\"apples\", \"bananas\", \"grapes\", \"tomatos\"]\n",
    "\n",
    "for index in range(len(fruits)):\n",
    "    print(fruits[index])\n",
    "    \n",
    "for fruit in fruits:\n",
    "    print(fruit)"
   ]
  },
  {
   "cell_type": "code",
   "execution_count": 10,
   "metadata": {},
   "outputs": [
    {
     "name": "stdout",
     "output_type": "stream",
     "text": [
      "tomatos\n",
      "grapes\n",
      "bananas\n",
      "apples\n",
      "tomatos\n",
      "grapes\n",
      "bananas\n",
      "apples\n"
     ]
    }
   ],
   "source": [
    "fruits = ['apples', 'bananas', 'grapes', 'tomatos']\n",
    "\n",
    "for index in range(len(fruits)-1,-1,-1):\n",
    "    print (fruits[index])\n",
    "    \n",
    "for fruit in reversed(fruits):\n",
    "    print(fruit)    \n"
   ]
  },
  {
   "cell_type": "code",
   "execution_count": 1,
   "metadata": {},
   "outputs": [
    {
     "name": "stdout",
     "output_type": "stream",
     "text": [
      "0 -> apples\n",
      "1 -> bananas\n",
      "2 -> grapes\n",
      "3 -> tomatos\n",
      "0 -> apples\n",
      "1 -> bananas\n",
      "2 -> grapes\n",
      "3 -> tomatos\n"
     ]
    }
   ],
   "source": [
    "fruits = ['apples', 'bananas', 'grapes', 'tomatos']\n",
    "\n",
    "for index in range(len(fruits)):\n",
    "    print (f'{index} -> {fruits[index]}')\n",
    "\n",
    "for index,fruit in enumerate(fruits):\n",
    "    print (f'{index} -> {fruit}')"
   ]
  },
  {
   "cell_type": "code",
   "execution_count": 4,
   "metadata": {},
   "outputs": [
    {
     "name": "stdout",
     "output_type": "stream",
     "text": [
      "apples -> carrot\n",
      "bananas -> spinach\n",
      "grapes -> cucumber\n",
      "s -> carrot\n",
      "s -> spinach\n",
      "s -> cucumber\n",
      "g -> carrot\n",
      "r -> spinach\n",
      "a -> cucumber\n",
      "p -> None\n",
      "e -> None\n",
      "s -> None\n"
     ]
    }
   ],
   "source": [
    "fruits = ['apples', 'bananas', 'grapes', 'tomatos']\n",
    "vegetables = [\"carrot\", \"spinach\", \"cucumber\"]\n",
    "\n",
    "smaller_size = min(len(fruits), len(vegetables))\n",
    "for index in range(smaller_size):\n",
    "    print(f\"{fruits[index]} -> {vegetables[index]}\")\n",
    "    \n",
    "for fruits, vegetable in zip(fruits, vegetables):\n",
    "    print(f\"{fruit} -> {vegetable}\") \n",
    "    \n",
    "from itertools import zip_longest\n",
    "for fruit,vegetable in zip_longest(fruits,vegetables,fillvalue=\"None\"):\n",
    "    print(f\"{fruit} -> {vegetable}\") "
   ]
  },
  {
   "cell_type": "code",
   "execution_count": 7,
   "metadata": {},
   "outputs": [
    {
     "name": "stdout",
     "output_type": "stream",
     "text": [
      "apples\n",
      "bananas\n",
      "ginger\n",
      "grapes\n",
      "tomatos\n",
      "['apples', 'ginger', 'bananas', 'grapes', 'tomatos']\n"
     ]
    }
   ],
   "source": [
    "_fruits = ['apples','ginger' ,'bananas', 'grapes', 'tomatos']\n",
    "for fruit in sorted(_fruits):\n",
    "    print(fruit)\n",
    "print(_fruits)\n"
   ]
  },
  {
   "cell_type": "code",
   "execution_count": 9,
   "metadata": {},
   "outputs": [
    {
     "name": "stdout",
     "output_type": "stream",
     "text": [
      "tomatos\n",
      "grapes\n",
      "ginger\n",
      "bananas\n",
      "apples\n"
     ]
    }
   ],
   "source": [
    "for fruit in sorted(_fruits, reverse=True):\n",
    "    print(fruit)"
   ]
  },
  {
   "cell_type": "code",
   "execution_count": 10,
   "metadata": {},
   "outputs": [
    {
     "name": "stdout",
     "output_type": "stream",
     "text": [
      "['e', 'z', 'fw', 'asd', 'reg', 'dsgerg', 'rgsdsdrwd']\n"
     ]
    }
   ],
   "source": [
    "lenghts = ['asd', 'dsgerg', 'rgsdsdrwd', 'e', 'fw', 'reg', 'z']\n",
    "print(sorted(lenghts, key=len))\n"
   ]
  },
  {
   "cell_type": "code",
   "execution_count": 14,
   "metadata": {},
   "outputs": [
    {
     "name": "stdout",
     "output_type": "stream",
     "text": [
      "user found! at index: 2\n"
     ]
    }
   ],
   "source": [
    "users = ['karina', 'radhika', 'mitansh', 'hardik']\n",
    "find_name = 'mitansh'\n",
    "print(f\"user found! at index: {users.index(find_name)}\") if find_name in users else print(\"Not Found!\")"
   ]
  },
  {
   "cell_type": "code",
   "execution_count": 16,
   "metadata": {},
   "outputs": [
    {
     "name": "stdout",
     "output_type": "stream",
     "text": [
      "{'cat': 'milk', 'dog': 'bone'}\n"
     ]
    }
   ],
   "source": [
    "my_dict = {'cat':'milk', 'bee':'honey', 'dog':'bone'}\n",
    "for key in list(my_dict):\n",
    "    if key.startswith('b'): \n",
    "        del my_dict[key]\n",
    "print(my_dict)"
   ]
  },
  {
   "cell_type": "code",
   "execution_count": 17,
   "metadata": {},
   "outputs": [
    {
     "name": "stdout",
     "output_type": "stream",
     "text": [
      "cat --> milk\n",
      "bee --> honey\n",
      "dog --> bone\n"
     ]
    }
   ],
   "source": [
    "my_dict = {'cat':'milk', 'bee':'honey', 'dog':'bone'}\n",
    "for key, value in my_dict.items():\n",
    "    print(f'{key} --> {value}')"
   ]
  },
  {
   "cell_type": "code",
   "execution_count": 18,
   "metadata": {},
   "outputs": [
    {
     "name": "stdout",
     "output_type": "stream",
     "text": [
      "{'karina': 'apples', 'radhika': 'ginger', 'mitansh': 'bananas'}\n"
     ]
    }
   ],
   "source": [
    "users = ['karina', 'radhika', 'mitansh', 'hardik']\n",
    "fruits = ['apples','ginger' ,'bananas']\n",
    "my_dict = dict(zip(users, fruits))\n",
    "print(my_dict)"
   ]
  },
  {
   "cell_type": "code",
   "execution_count": 20,
   "metadata": {},
   "outputs": [
    {
     "name": "stdout",
     "output_type": "stream",
     "text": [
      "{'a': 1, 'b': 3, 'c': 4}\n"
     ]
    }
   ],
   "source": [
    "x = {'a':1, 'b':2}\n",
    "y = {'b':3, 'c':4}\n",
    "z={**x, **y}\n",
    "print(z)"
   ]
  },
  {
   "cell_type": "code",
   "execution_count": 27,
   "metadata": {},
   "outputs": [
    {
     "data": {
      "text/plain": [
       "{6: ['karina', 'hardik'], 7: ['radhika', 'mitansh']}"
      ]
     },
     "execution_count": 27,
     "metadata": {},
     "output_type": "execute_result"
    }
   ],
   "source": [
    "users = ['karina', 'radhika', 'mitansh', 'hardik']\n",
    "d = {}\n",
    "for item in users:\n",
    "    key = len(item)\n",
    "    d.setdefault(key,[]).append(item)\n",
    "print(d)"
   ]
  },
  {
   "cell_type": "code",
   "execution_count": 29,
   "metadata": {},
   "outputs": [
    {
     "name": "stdout",
     "output_type": "stream",
     "text": [
      "{'one': 'uno', 'two': 'dos', 'three': 'tres'}\n"
     ]
    }
   ],
   "source": [
    "eng_to_span = dict(one='uno', two='dos', three='tres')\n",
    "span_to_eng = {v:k for k,v in eng_to_span.items()}\n",
    "print(span_to_eng)"
   ]
  },
  {
   "cell_type": "code",
   "execution_count": 30,
   "metadata": {},
   "outputs": [
    {
     "name": "stdout",
     "output_type": "stream",
     "text": [
      "defaultdict(<class 'list'>,\n",
      "            {'gratis': ['free'],\n",
      "             'libre': ['free'],\n",
      "             'uno': ['one']})\n"
     ]
    }
   ],
   "source": [
    "e2s = {\n",
    "    'one':['uno'],\n",
    "    'free':['libre','gratis']\n",
    "}\n",
    "from collections import defaultdict\n",
    "from pprint import pprint\n",
    "s2e = defaultdict(list)\n",
    "for k,listt in e2s.items():\n",
    "    for v in listt:\n",
    "        s2e[v].append(k)\n",
    "pprint(s2e, width=40)"
   ]
  },
  {
   "cell_type": "code",
   "execution_count": 34,
   "metadata": {},
   "outputs": [],
   "source": [
    "def fun(username, password, is_premium_user):\n",
    "    pass\n",
    "\n",
    "fun(username='karina', password=\"k123\", is_premium_user=True)\n"
   ]
  },
  {
   "cell_type": "code",
   "execution_count": 37,
   "metadata": {},
   "outputs": [
    {
     "name": "stdout",
     "output_type": "stream",
     "text": [
      "(9, 1)\n",
      "result(passes=9, fails=1)\n"
     ]
    }
   ],
   "source": [
    "class_result = (9, 1)\n",
    "print(class_result)\n",
    "\n",
    "from collections import namedtuple\n",
    "Class_Result = namedtuple('result', [\"passes\", \"fails\"])\n",
    "class_result = Class_Result(9, 1)\n",
    "print(class_result)\n",
    "print(class_result[0])\n",
    "print(class_result.passes)\n"
   ]
  },
  {
   "cell_type": "code",
   "execution_count": 4,
   "metadata": {},
   "outputs": [
    {
     "name": "stdout",
     "output_type": "stream",
     "text": [
      "('hi', 'how', 'are', 'you')\n",
      "hi\n"
     ]
    }
   ],
   "source": [
    "my_tuple = 'hi', 'how', 'are', 'you'\n",
    "print(my_tuple)\n",
    "p, q, r, s = my_tuple\n",
    "print(p)"
   ]
  },
  {
   "cell_type": "code",
   "execution_count": 5,
   "metadata": {},
   "outputs": [
    {
     "name": "stdout",
     "output_type": "stream",
     "text": [
      "0, 1, 1, 2, 3, 5, 8, 13, 21, 34, "
     ]
    }
   ],
   "source": [
    "def fibonacci(len_fib):\n",
    "    x,y = 0,1\n",
    "    for i in range(len_fib):\n",
    "        print(x, end=\", \")\n",
    "        x,y = y, x+y \n",
    "        \n",
    "fibonacci(len_fib=10)"
   ]
  },
  {
   "cell_type": "code",
   "execution_count": 7,
   "metadata": {},
   "outputs": [
    {
     "name": "stdout",
     "output_type": "stream",
     "text": [
      "['hi', 'how', 'are', 'you']\n",
      "hi,how,are,you\n"
     ]
    }
   ],
   "source": [
    "# concatenating strings\n",
    "my_list = ['hi', 'how', 'are', 'you']\n",
    "s = ','.join(my_list)\n",
    "print(my_list)\n",
    "print(s)"
   ]
  },
  {
   "cell_type": "code",
   "execution_count": 19,
   "metadata": {},
   "outputs": [
    {
     "name": "stdout",
     "output_type": "stream",
     "text": [
      "deque(['yo!', 'how', 'are'])\n",
      "yo! how are\n"
     ]
    }
   ],
   "source": [
    "from collections import deque\n",
    "my_list = deque(['hi', 'how', 'are', 'you'])\n",
    "del[my_list[0]]\n",
    "my_list.pop()\n",
    "my_list.insert(0,\"yo!\")\n",
    "print(my_list)\n",
    "# my_list[0]\n",
    "print(*my_list)"
   ]
  },
  {
   "cell_type": "code",
   "execution_count": 22,
   "metadata": {},
   "outputs": [
    {
     "name": "stdout",
     "output_type": "stream",
     "text": [
      "sum :285\n"
     ]
    }
   ],
   "source": [
    "squares = []\n",
    "for number in range(10):\n",
    "    squares.append(number**2)\n",
    "print(f\"sum :{sum(squares)}\")\n"
   ]
  },
  {
   "cell_type": "code",
   "execution_count": 26,
   "metadata": {},
   "outputs": [
    {
     "data": {
      "text/plain": [
       "Counter({'list_item': 10})"
      ]
     },
     "execution_count": 26,
     "metadata": {},
     "output_type": "execute_result"
    }
   ],
   "source": [
    "from collections import Counter\n",
    "my_list = [\"list_item\"]*10\n",
    "Counter(my_list)"
   ]
  },
  {
   "cell_type": "code",
   "execution_count": 30,
   "metadata": {},
   "outputs": [
    {
     "data": {
      "text/plain": [
       "False"
      ]
     },
     "execution_count": 30,
     "metadata": {},
     "output_type": "execute_result"
    }
   ],
   "source": [
    "from math import fsum\n",
    "fsum([0.1]*10)\n",
    "fsum([0.1]*10) == 1"
   ]
  },
  {
   "cell_type": "code",
   "execution_count": 39,
   "metadata": {},
   "outputs": [
    {
     "name": "stdout",
     "output_type": "stream",
     "text": [
      "defaultdict(<class 'list'>,\n",
      "            {'k': ['karina'],\n",
      "             'm': ['mitansh'],\n",
      "             'r': ['radhika']})\n"
     ]
    }
   ],
   "source": [
    "from collections import defaultdict\n",
    "from pprint import pprint\n",
    "d = defaultdict(list)\n",
    "d[\"k\"].append(\"karina\")\n",
    "d[\"r\"].append(\"radhika\")\n",
    "d[\"m\"].append(\"mitansh\")\n",
    "\n",
    "pprint(d)\n"
   ]
  },
  {
   "cell_type": "code",
   "execution_count": 42,
   "metadata": {},
   "outputs": [
    {
     "name": "stdout",
     "output_type": "stream",
     "text": [
      "[10, 20, 30, 40, 50, 60]\n"
     ]
    }
   ],
   "source": [
    "m = [\n",
    "    [10, 20],\n",
    "    [30, 40],\n",
    "    [50, 60]\n",
    "]\n",
    "print([x for row in m for x in row])\n"
   ]
  },
  {
   "cell_type": "code",
   "execution_count": 53,
   "metadata": {},
   "outputs": [
    {
     "data": {
      "text/plain": [
       "[('a', 'b', 'a'), ('d', 'f', 'f'), ('g', 'h', 'i')]"
      ]
     },
     "execution_count": 53,
     "metadata": {},
     "output_type": "execute_result"
    }
   ],
   "source": [
    "s = \"abadffghi\"\n",
    "i = iter(s)\n",
    "list(zip(i, i, i)) \n"
   ]
  }
 ],
 "metadata": {
  "kernelspec": {
   "display_name": "Python 3.8.10 64-bit",
   "language": "python",
   "name": "python3"
  },
  "language_info": {
   "codemirror_mode": {
    "name": "ipython",
    "version": 3
   },
   "file_extension": ".py",
   "mimetype": "text/x-python",
   "name": "python",
   "nbconvert_exporter": "python",
   "pygments_lexer": "ipython3",
   "version": "3.8.10"
  },
  "orig_nbformat": 4,
  "vscode": {
   "interpreter": {
    "hash": "916dbcbb3f70747c44a77c7bcd40155683ae19c65e1c03b4aa3499c5328201f1"
   }
  }
 },
 "nbformat": 4,
 "nbformat_minor": 2
}
