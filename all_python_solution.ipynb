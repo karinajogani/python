{
 "cells": [
  {
   "cell_type": "code",
   "execution_count": 4,
   "metadata": {},
   "outputs": [
    {
     "name": "stdout",
     "output_type": "stream",
     "text": [
      "\n",
      " Basic math operation\n",
      "5\n",
      "-1\n",
      "6\n",
      "0.6666666666666666\n",
      "0\n",
      "2\n",
      "8\n"
     ]
    }
   ],
   "source": [
    "print(\"\\n Basic math operation\")\n",
    "print(2+3)\n",
    "print(2-3)\n",
    "print(2*3)\n",
    "print(2/3)\n",
    "print(2//3)\n",
    "print(2%3)\n",
    "print(2**3)"
   ]
  },
  {
   "cell_type": "code",
   "execution_count": 5,
   "metadata": {},
   "outputs": [
    {
     "name": "stdout",
     "output_type": "stream",
     "text": [
      "\\some math functions\n",
      "4\n",
      "20\n"
     ]
    }
   ],
   "source": [
    "print(\"\\some math functions\")\n",
    "print(round(3.7))\n",
    "print(abs(-20))"
   ]
  },
  {
   "cell_type": "code",
   "execution_count": 3,
   "metadata": {},
   "outputs": [
    {
     "name": "stdout",
     "output_type": "stream",
     "text": [
      "\n",
      "cheking the data type\n",
      "<class 'float'>\n"
     ]
    }
   ],
   "source": [
    "print(\"\\ncheking the data type\")\n",
    "print(type(2/3))"
   ]
  },
  {
   "cell_type": "code",
   "execution_count": 1,
   "metadata": {},
   "outputs": [
    {
     "name": "stdout",
     "output_type": "stream",
     "text": [
      "\n",
      "checking operator precedence\n",
      "14\n",
      "13\n"
     ]
    }
   ],
   "source": [
    "print(\"\\nchecking operator precedence\")\n",
    "print( 2 + 3*4 )\n",
    "print( ( 2 + 3) + 2**3 )"
   ]
  },
  {
   "cell_type": "code",
   "execution_count": 7,
   "metadata": {},
   "outputs": [
    {
     "name": "stdout",
     "output_type": "stream",
     "text": [
      "\n",
      " converting to the binary representation and back\n",
      "0b101\n",
      "5\n"
     ]
    }
   ],
   "source": [
    "print(\"\\n converting to the binary representation and back\")\n",
    "print(bin(5))\n",
    "print(int('0b101',2))"
   ]
  },
  {
   "cell_type": "code",
   "execution_count": 10,
   "metadata": {},
   "outputs": [
    {
     "name": "stdout",
     "output_type": "stream",
     "text": [
      "\n",
      "using vaiables\n",
      "10\n",
      "\n",
      "a: 1 ,b: 2\n"
     ]
    }
   ],
   "source": [
    "print(\"\\nusing vaiables\")\n",
    "normal_variable = 10\n",
    "print(normal_variable)\n",
    "a,b,c = 1,2,3\n",
    "print(\"\\na:\",a, \",b:\",b)"
   ]
  },
  {
   "cell_type": "code",
   "execution_count": 13,
   "metadata": {},
   "outputs": [
    {
     "name": "stdout",
     "output_type": "stream",
     "text": [
      "\n",
      "augmented opration value : 7\n"
     ]
    }
   ],
   "source": [
    "iq = 200\n",
    "user_age = iq/5\n",
    "some = 5\n",
    "some +=2\n",
    "print(\"\\naugmented opration value :\",some)"
   ]
  },
  {
   "cell_type": "code",
   "execution_count": 16,
   "metadata": {},
   "outputs": [
    {
     "name": "stdout",
     "output_type": "stream",
     "text": [
      "\n",
      " this example of a long string\n",
      "im karina\n",
      "0 0\n",
      " _ \n",
      "\n"
     ]
    }
   ],
   "source": [
    "long_str = '''im karina\n",
    "0 0\n",
    " _ \n",
    "'''\n",
    "print(\"\\n this example of a long string\")\n",
    "print(long_str)"
   ]
  },
  {
   "cell_type": "code",
   "execution_count": 17,
   "metadata": {},
   "outputs": [
    {
     "name": "stdout",
     "output_type": "stream",
     "text": [
      "\n",
      "Trying out the escape characters\n",
      "It's a beautiful day\n",
      "\tIts a beautiful day\n"
     ]
    }
   ],
   "source": [
    "print('\\nTrying out the escape characters')\n",
    "print ('It\\'s a beautiful day')\n",
    "print('\\tIts a beautiful day')\n"
   ]
  },
  {
   "cell_type": "code",
   "execution_count": 2,
   "metadata": {},
   "outputs": [
    {
     "name": "stdout",
     "output_type": "stream",
     "text": [
      "\n",
      "Trying out formatted strings.\n",
      "welcomekarina. you are  21years\n",
      "welcomekarina .you are 21 years old.\n",
      "welcomekarina. you are 21 years old.\n",
      "welcome karina. you are 21 years old.\n",
      "welcome21. you are karina years old.\n",
      "welcome p. you are 21 years old.\n"
     ]
    }
   ],
   "source": [
    "print('\\nTrying out formatted strings.')\n",
    "name = 'karina'\n",
    "age = 21\n",
    "print(\"welcome\" + name +\". you are \", str(age)+\"years\")\n",
    "print(\"welcome\" + name, \".you are\", str(age), \"years old.\")\n",
    "print(f\"welcome{name}. you are {age} years old.\")\n",
    "print(\"welcome {}. you are {} years old.\".format(name, age))\n",
    "print((\"welcome{1}. you are {0} years old.\".format(name,age)))\n",
    "print(\"welcome {_name}. you are {_age} years old.\".format(_name=\"p\",_age=21))"
   ]
  },
  {
   "cell_type": "code",
   "execution_count": 21,
   "metadata": {},
   "outputs": [
    {
     "name": "stdout",
     "output_type": "stream",
     "text": [
      "\n",
      "manipulating strings\n",
      "0\n",
      "01234567\n",
      "01234\n",
      "0123\n",
      "01234567\n",
      "01234567\n",
      "7\n",
      "6\n",
      "76543210\n"
     ]
    }
   ],
   "source": [
    "print(\"\\nmanipulating strings\")\n",
    "strin = '01234567'\n",
    "print(strin[0])\n",
    "print(strin[0:])\n",
    "print(strin[:5])\n",
    "print(strin[0:4])\n",
    "print(strin[0:8:1])\n",
    "print(strin[0:8:1])\n",
    "print(strin[-1])\n",
    "print(strin[-2])\n",
    "print(strin[::-1])\n"
   ]
  },
  {
   "cell_type": "code",
   "execution_count": 22,
   "metadata": {},
   "outputs": [
    {
     "name": "stdout",
     "output_type": "stream",
     "text": [
      "012345678\n"
     ]
    }
   ],
   "source": [
    "strin = '01234567'\n",
    "strin = strin+ '8'\n",
    "print(strin)"
   ]
  },
  {
   "cell_type": "code",
   "execution_count": 23,
   "metadata": {},
   "outputs": [
    {
     "name": "stdout",
     "output_type": "stream",
     "text": [
      "\n",
      "Working with booleans\n",
      "False\n",
      "True\n",
      "True\n"
     ]
    }
   ],
   "source": [
    "print('\\nWorking with booleans')\n",
    "print(bool(0))\n",
    "print(bool('True'))\n",
    "print(bool(True))"
   ]
  },
  {
   "cell_type": "code",
   "execution_count": 25,
   "metadata": {},
   "outputs": [
    {
     "name": "stdout",
     "output_type": "stream",
     "text": [
      "Your current age is 21\n"
     ]
    }
   ],
   "source": [
    "year = input(\"\\nEnter your birth year :\")\n",
    "age = 2022 - int(year)\n",
    "print(f\"Your current age is {age}\")"
   ]
  },
  {
   "cell_type": "code",
   "execution_count": 26,
   "metadata": {},
   "outputs": [
    {
     "name": "stdout",
     "output_type": "stream",
     "text": [
      "Welcome karina, your password :******** is 8 letters long\n"
     ]
    }
   ],
   "source": [
    "u_name = input(\"\\nenter the uername :\")\n",
    "password = input(\"enter the password :\")\n",
    "print(f\"Welcome {u_name}, your password :{len(password)* '*'} is {len(password)} letters long\")"
   ]
  },
  {
   "cell_type": "code",
   "execution_count": 27,
   "metadata": {},
   "outputs": [
    {
     "name": "stdout",
     "output_type": "stream",
     "text": [
      "working with listt\n",
      "[1, 2, 3]\n",
      "\n",
      "new list\n",
      "[1, 2.5, 3]\n"
     ]
    }
   ],
   "source": [
    "print(\"working with list\")\n",
    "li = [1,2,3]\n",
    "li2 = ['a','b','c']\n",
    "li3 = [1,2.5, 'c', True]\n",
    "print(li)\n",
    "li[1] = 2.5\n",
    "print('\\nnew list')\n",
    "print(li)\n"
   ]
  },
  {
   "cell_type": "code",
   "execution_count": 32,
   "metadata": {},
   "outputs": [
    {
     "name": "stdout",
     "output_type": "stream",
     "text": [
      "\n",
      "List copying problem\n",
      "['orange', 'banana', 'carrot']\n"
     ]
    }
   ],
   "source": [
    "print(\"\\nList copying problem\")\n",
    "cart = ['apple','banana','carrot']\n",
    "new_cart = cart\n",
    "new_cart[0] = 'orange'\n",
    "print(cart)\n"
   ]
  },
  {
   "cell_type": "code",
   "execution_count": 33,
   "metadata": {},
   "outputs": [
    {
     "name": "stdout",
     "output_type": "stream",
     "text": [
      "\n",
      "Appending the list problem\n",
      "[1, 2, 3, 4, 5, 100]\n",
      "eg2 :  None\n"
     ]
    }
   ],
   "source": [
    "print('\\nAppending the list problem')\n",
    "eg = [1,2,3,4,5]\n",
    "eg2 = eg.append(100)\n",
    "print(eg)\n",
    "print(\"eg2 : \",eg2)"
   ]
  },
  {
   "cell_type": "code",
   "execution_count": 34,
   "metadata": {},
   "outputs": [
    {
     "name": "stdout",
     "output_type": "stream",
     "text": [
      "eg2 [1, 2, 3, 4, 5, 100]\n"
     ]
    }
   ],
   "source": [
    "eg = [1,2,3,4,5]\n",
    "eg.append(100)          \n",
    "eg2 = eg[:]\n",
    "print(\"eg2\", eg2)"
   ]
  },
  {
   "cell_type": "code",
   "execution_count": 9,
   "metadata": {},
   "outputs": [
    {
     "data": {
      "text/plain": [
       "['a', 'b', 'c']"
      ]
     },
     "execution_count": 9,
     "metadata": {},
     "output_type": "execute_result"
    }
   ],
   "source": [
    "from itertools import islice\n",
    "# islice('abcdef',3)           \n",
    "list(islice('abcdef',3))        \n",
    "# list(islice('abcdef',None,3))   \n",
    "# list(islice('abcdef',2,4))      \n",
    "# list(islice('abcdef',2,6,2))"
   ]
  },
  {
   "cell_type": "code",
   "execution_count": 17,
   "metadata": {},
   "outputs": [
    {
     "data": {
      "text/plain": [
       "['E', 'D', 'C', 'A', 'A']"
      ]
     },
     "execution_count": 17,
     "metadata": {},
     "output_type": "execute_result"
    }
   ],
   "source": [
    "import bisect\n",
    "cuts = [20,40,60,80]\n",
    "grades = 'EDCBA'\n",
    "# grades[bisect.bisect(cuts,50)]\n",
    "[grades[bisect.bisect(cuts,x)] for x in [10,30,50,80,100]]"
   ]
  },
  {
   "cell_type": "code",
   "execution_count": 52,
   "metadata": {},
   "outputs": [
    {
     "name": "stdout",
     "output_type": "stream",
     "text": [
      "1\n",
      "2\n",
      "Not present\n"
     ]
    }
   ],
   "source": [
    "from collections import defaultdict\n",
    "def def_value():\n",
    "    return \"Not present\"\n",
    "\n",
    "d = defaultdict(def_value)\n",
    "d[\"a\"] = 1\n",
    "d[\"b\"] = 2\n",
    "\n",
    "print(d[\"a\"])\n",
    "print(d[\"b\"])\n",
    "print(d[\"c\"])"
   ]
  },
  {
   "cell_type": "code",
   "execution_count": 55,
   "metadata": {},
   "outputs": [
    {
     "name": "stdout",
     "output_type": "stream",
     "text": [
      "total sum of all items =  55\n",
      "another sum : 55\n"
     ]
    }
   ],
   "source": [
    "my_list = [1,2,3,4,5,6,7,8,9,10]\n",
    "sum = 0\n",
    "for item in my_list:\n",
    "    sum+=item\n",
    "    \n",
    "print(\"total sum of all items = \",str(sum))\n",
    "\n",
    "another_sum = 0\n",
    "for index in range(len(my_list)):\n",
    "    another_sum += my_list[index]\n",
    "print(f'another sum : {another_sum}')"
   ]
  },
  {
   "cell_type": "code",
   "execution_count": 18,
   "metadata": {},
   "outputs": [
    {
     "name": "stdout",
     "output_type": "stream",
     "text": [
      "enumerate example\n",
      "(0, 'h')\n",
      "(1, 'e')\n",
      "(2, 'l')\n",
      "(3, 'l')\n",
      "(4, 'o')\n",
      "(5, 'o')\n",
      "(6, 'o')\n"
     ]
    }
   ],
   "source": [
    "print(\"enumerate example\")\n",
    "for item in enumerate('hellooo'):\n",
    "    print(item)"
   ]
  },
  {
   "cell_type": "code",
   "execution_count": 58,
   "metadata": {},
   "outputs": [
    {
     "name": "stdout",
     "output_type": "stream",
     "text": [
      "main purpose to get the index from 0\n",
      "0 h\n",
      "1 e\n",
      "2 l\n",
      "3 l\n",
      "4 o\n",
      "5 o\n",
      "6 o\n"
     ]
    }
   ],
   "source": [
    "print(\"main purpose to get the index from 0\")\n",
    "for index, item in enumerate(\"hellooo\"):\n",
    "    print(f'{index} {item}')"
   ]
  },
  {
   "cell_type": "code",
   "execution_count": 60,
   "metadata": {},
   "outputs": [
    {
     "name": "stdout",
     "output_type": "stream",
     "text": [
      "i: 0\n",
      "i: 1\n",
      "done with all the work\n"
     ]
    }
   ],
   "source": [
    "i = 0\n",
    "while i<2:\n",
    "    print(\"i:\", str(i))\n",
    "    i+=1\n",
    "else:\n",
    "    print(\"done with all the work\")"
   ]
  },
  {
   "cell_type": "code",
   "execution_count": 61,
   "metadata": {},
   "outputs": [
    {
     "name": "stdout",
     "output_type": "stream",
     "text": [
      "\n",
      "i :  0\n"
     ]
    }
   ],
   "source": [
    "i=0\n",
    "while i<50:\n",
    "    print(\"\\ni : \", str(i))\n",
    "    break \n",
    "else:\n",
    "    print(\"done with all work\")"
   ]
  },
  {
   "cell_type": "code",
   "execution_count": 19,
   "metadata": {},
   "outputs": [],
   "source": [
    "while True:\n",
    "    response = input(\"chat 'bye' to exit :\")\n",
    "    if(\"bye\" in response.split()):\n",
    "        break"
   ]
  },
  {
   "cell_type": "code",
   "execution_count": 64,
   "metadata": {},
   "outputs": [
    {
     "name": "stdout",
     "output_type": "stream",
     "text": [
      "skipping no. 3\n",
      "1\n",
      "2\n",
      "4\n",
      "5\n"
     ]
    }
   ],
   "source": [
    "print(\"skipping no. 3\")\n",
    "for item in [1,2,3,4,5]:\n",
    "    if(item == 3):\n",
    "        continue\n",
    "    else:\n",
    "        print(item)"
   ]
  },
  {
   "cell_type": "code",
   "execution_count": 24,
   "metadata": {},
   "outputs": [
    {
     "data": {
      "text/plain": [
       "['c', 'd', 'e', 'f', 'g']"
      ]
     },
     "execution_count": 24,
     "metadata": {},
     "output_type": "execute_result"
    }
   ],
   "source": [
    "i = iter('abcdefg')\n",
    "next(i)\n",
    "next(i)\n",
    "list(i)"
   ]
  },
  {
   "cell_type": "code",
   "execution_count": 25,
   "metadata": {},
   "outputs": [
    {
     "name": "stdout",
     "output_type": "stream",
     "text": [
      "Calling value using tuple(as key) [1, 2, 3]\n"
     ]
    }
   ],
   "source": [
    "my_tuple = (1, 2, 3, 4, 5)\n",
    "user = {\n",
    "  (1,2) : [1,2,3],\n",
    "  'greet' : 'hello',\n",
    "  'age' : 24\n",
    "}\n",
    "\n",
    "print(\"Calling value using tuple(as key)\",user[(1,2)])"
   ]
  },
  {
   "cell_type": "code",
   "execution_count": 27,
   "metadata": {},
   "outputs": [
    {
     "name": "stdout",
     "output_type": "stream",
     "text": [
      "\n",
      "Slicing tuple : (3,)\n",
      "Slicing tuple : (3, 4, 5)\n",
      "x :  1\n",
      "y :  2\n",
      "z :  3\n",
      "other :  [4, 5]\n",
      "Count '5' occurances:  1\n",
      "Index of '5' occurance:  4\n",
      "Length of the tuple : 5\n"
     ]
    }
   ],
   "source": [
    "my_tuple = (1,2,3,4,5)\n",
    "new_tuple = my_tuple[:]\n",
    "x,y,z, *other = new_tuple\n",
    "print(\"Slicing tuple :\", my_tuple[2:3])\n",
    "print(\"Slicing tuple :\", my_tuple[2:])\n",
    "print(\"x : \",x)\n",
    "print(\"y : \",y)\n",
    "print(\"z : \",z)\n",
    "print(\"other : \",other)\n",
    "print(\"Count '5' occurances: \", new_tuple.count(5))\n",
    "print(\"Index of '5' occurance: \", new_tuple.index(5))\n",
    "print(\"Length of the tuple :\", len(new_tuple))\n"
   ]
  },
  {
   "cell_type": "code",
   "execution_count": 71,
   "metadata": {},
   "outputs": [
    {
     "name": "stdout",
     "output_type": "stream",
     "text": [
      "my_set : {1, 2, 3, 4, 5}\n"
     ]
    }
   ],
   "source": [
    "my_set = {1,5,3,4,5,5,2,5,5,5}\n",
    "print(\"my_set :\", my_set)"
   ]
  },
  {
   "cell_type": "code",
   "execution_count": 30,
   "metadata": {},
   "outputs": [
    {
     "name": "stdout",
     "output_type": "stream",
     "text": [
      "list coverted to set: {1, 2, 4, 5, 9}\n"
     ]
    }
   ],
   "source": [
    "my_list = [9,4,5,4,4,2,2,1]\n",
    "my_list_set = set(my_list)\n",
    "print('list coverted to set:', my_list_set)\n"
   ]
  },
  {
   "cell_type": "code",
   "execution_count": 74,
   "metadata": {},
   "outputs": [
    {
     "name": "stdout",
     "output_type": "stream",
     "text": [
      "element: 1 : count: 1\n",
      "element: 5 : count: 2\n",
      "element: 4 : count: 2\n",
      "element: 3 : count: 2\n",
      "element: 7 : count: 1\n",
      "element: 8 : count: 1\n",
      "element: 2 : count: 1\n",
      "element: 3 : count: 2\n",
      "element: 6 : count: 2\n",
      "element: 9 : count: 1\n",
      "element: 4 : count: 2\n",
      "element: 6 : count: 2\n",
      "element: 5 : count: 2\n"
     ]
    }
   ],
   "source": [
    "exe_list = [1,5,4,3,7,8,2,3,6,9,4,6,5]\n",
    "for item in exe_list:\n",
    "    print(f'element: {item} : count: {exe_list.count(item)}')"
   ]
  },
  {
   "cell_type": "code",
   "execution_count": 31,
   "metadata": {},
   "outputs": [
    {
     "name": "stdout",
     "output_type": "stream",
     "text": [
      "1\n",
      "2\n",
      "3\n",
      "9\n",
      "[5, 6, 7, 8]\n",
      "9\n"
     ]
    }
   ],
   "source": [
    "a,b,c,d,*other,d = [1,2,3,4,5,6,7,8,9]\n",
    "print(a)\n",
    "print(b)\n",
    "print(c)\n",
    "print(d)\n",
    "print(other)\n",
    "print(d)"
   ]
  },
  {
   "cell_type": "code",
   "execution_count": 77,
   "metadata": {},
   "outputs": [
    {
     "name": "stdout",
     "output_type": "stream",
     "text": [
      "x:True, xx:False,\n",
      "y:True, yy:False\n"
     ]
    }
   ],
   "source": [
    "x,xx = \"hello\",\"\"\n",
    "y,yy = 20,0\n",
    "\n",
    "print(f\"x:{bool(x)}, xx:{bool(xx)},\\ny:{bool(y)}, yy:{bool(yy)}\")"
   ]
  },
  {
   "cell_type": "code",
   "execution_count": 78,
   "metadata": {},
   "outputs": [
    {
     "name": "stdout",
     "output_type": "stream",
     "text": [
      "\n",
      "username,passwod do exists\n"
     ]
    }
   ],
   "source": [
    "username = \"karina\"\n",
    "password = \"1234\"\n",
    "\n",
    "if username and password:\n",
    "    print(\"\\nusername,passwod do exists\")\n",
    "else:\n",
    "    print(\"\\nusername,password don't exists\")"
   ]
  },
  {
   "cell_type": "code",
   "execution_count": 32,
   "metadata": {},
   "outputs": [
    {
     "name": "stdout",
     "output_type": "stream",
     "text": [
      "Current password : False\n",
      "\n",
      "username,password don't exists\n"
     ]
    }
   ],
   "source": [
    "username = \"karina\"\n",
    "password = ''\n",
    "print(\"Current password :\", bool(password))\n",
    "if username and password:\n",
    "  print(\"\\nusername,password do exists\")\n",
    "else:\n",
    "  print(\"\\nusername,password don't exists\")"
   ]
  },
  {
   "cell_type": "code",
   "execution_count": 81,
   "metadata": {},
   "outputs": [
    {
     "name": "stdout",
     "output_type": "stream",
     "text": [
      "you need magic powers\n"
     ]
    }
   ],
   "source": [
    "is_magician = False\n",
    "is_expert = True\n",
    "if is_magician and is_expert:\n",
    "   print(\"\\nyou are a master magician\")\n",
    "elif is_magician and not is_expert:\n",
    "    print(\"\\natleast you're getting somewhere\")\n",
    "elif not is_magician:\n",
    "    print(\"you need magic powers\") "
   ]
  },
  {
   "cell_type": "code",
   "execution_count": 34,
   "metadata": {},
   "outputs": [
    {
     "name": "stdout",
     "output_type": "stream",
     "text": [
      "1\n",
      "2\n",
      "3\n",
      "1\n",
      "2\n",
      "3\n",
      "1\n",
      "2\n",
      "3\n"
     ]
    }
   ],
   "source": [
    "for item in [1,2,3]:\n",
    "    print(item)\n",
    "    \n",
    "for item in {1,2,3}:\n",
    "    print(item)\n",
    "    \n",
    "for item in (1,2,3):\n",
    "    print(item)"
   ]
  },
  {
   "cell_type": "code",
   "execution_count": 94,
   "metadata": {},
   "outputs": [
    {
     "name": "stdout",
     "output_type": "stream",
     "text": [
      "['b', 'n']\n"
     ]
    }
   ],
   "source": [
    "some_list = ['a','b','c','b','d','m','n','n']\n",
    "duplicates = []\n",
    "\n",
    "for item in some_list:\n",
    "    if some_list.count(item) > 1:\n",
    "        if item not in duplicates:\n",
    "            duplicates.append(item)\n",
    "print(duplicates)"
   ]
  },
  {
   "cell_type": "code",
   "execution_count": 37,
   "metadata": {},
   "outputs": [
    {
     "name": "stdout",
     "output_type": "stream",
     "text": [
      "<function call_me at 0x7f6a00af2940>\n"
     ]
    }
   ],
   "source": [
    "def call_me():\n",
    "    print(\"you have called me!\")\n",
    "\n",
    "#function name and memory location    \n",
    "print(call_me)\n",
    "call_me()"
   ]
  },
  {
   "cell_type": "code",
   "execution_count": 100,
   "metadata": {},
   "outputs": [
    {
     "name": "stdout",
     "output_type": "stream",
     "text": [
      "you have called me karina! of 21 age\n",
      "you have called me radhika! of 26 age\n"
     ]
    }
   ],
   "source": [
    "def call_me(name, age):\n",
    "    print(f\"you have called me {name}! of {age} age\")\n",
    "call_me(\"karina\", \"21\")\n",
    "call_me(age=26, name=\"radhika\")"
   ]
  },
  {
   "cell_type": "code",
   "execution_count": 38,
   "metadata": {},
   "outputs": [
    {
     "name": "stdout",
     "output_type": "stream",
     "text": [
      "{'item1': 5, 'item2': 10}\n",
      "5\n",
      "'kwargs' contains a dictionary, sum : 15\n"
     ]
    }
   ],
   "source": [
    "def some_fn(**kwargs):\n",
    "    print(kwargs)\n",
    "    print(kwargs['item1'])\n",
    "    return sum (kwargs.values())\n",
    "\n",
    "print(\"'kwargs' contains a dictionary, sum :\",some_fn(item1=5, item2=10))"
   ]
  },
  {
   "cell_type": "code",
   "execution_count": 39,
   "metadata": {},
   "outputs": [
    {
     "name": "stdout",
     "output_type": "stream",
     "text": [
      "10\n",
      "1\n"
     ]
    }
   ],
   "source": [
    "# variable scope confusing\n",
    "a=1\n",
    "def fn():\n",
    "    a=10\n",
    "    return a\n",
    "print(fn())\n",
    "print(a)\n"
   ]
  },
  {
   "cell_type": "markdown",
   "metadata": {},
   "source": [
    "<!--  -->"
   ]
  },
  {
   "cell_type": "code",
   "execution_count": 41,
   "metadata": {},
   "outputs": [
    {
     "name": "stdout",
     "output_type": "stream",
     "text": [
      "highest even :  80.0\n"
     ]
    }
   ],
   "source": [
    "def highest_even(li):\n",
    "    highest=0\n",
    "    for item in li:\n",
    "        new=item/2\n",
    "        if(item%2==0 and new > highest):\n",
    "            highest=new\n",
    "    print(\"highest even : \",highest*2)\n",
    "highest_even([10,2,5,3,79,4,80])    "
   ]
  },
  {
   "cell_type": "code",
   "execution_count": 42,
   "metadata": {},
   "outputs": [
    {
     "name": "stdout",
     "output_type": "stream",
     "text": [
      "membership : True\n",
      "membership : True\n",
      "membership : True\n",
      "membership : True\n",
      "player 1 : hasti\n",
      "player 2 membership: True\n",
      "player membership : True\n",
      "radhika is running\n",
      "None\n",
      "membership : True\n",
      "membership : True\n",
      "calling  class method and getting new player object with 'cls' method and getting name: karina\n",
      "calling static method: 5\n"
     ]
    }
   ],
   "source": [
    "class PlayerCharacter:\n",
    "    # class object\n",
    "    membership = True\n",
    "    \n",
    "    def __init__(self, name):\n",
    "        self.name = name\n",
    "        print(\"membership :\", self.membership)\n",
    "        print(\"membership :\", PlayerCharacter.membership)\n",
    "        \n",
    "    # when we use cls it represent class method   \n",
    "    @classmethod\n",
    "    def classMethod(cls, num1, num2):\n",
    "        return cls(\"karina\")\n",
    "    \n",
    "    # in static method it returns simple arrguments\n",
    "    @staticmethod\n",
    "    def staticMethod(num1, num2):\n",
    "        return num1 + num2\n",
    "    \n",
    "    # self is instance mehod \n",
    "    def run(self):\n",
    "        print(f\"{self.name} is running\")\n",
    "        \n",
    "player1 = PlayerCharacter(\"hasti\")\n",
    "player2 = PlayerCharacter(\"radhika\")\n",
    "print(\"player 1 :\", player1.name)\n",
    "print(\"player 2 membership:\",player2.membership)\n",
    "print(\"player membership :\", PlayerCharacter.membership)\n",
    "print(player2.run())\n",
    "\n",
    "player3 = PlayerCharacter.classMethod(2,3)\n",
    "print(\"calling  class method and getting new player object with 'cls' method and getting name:\", player3.name)\n",
    "print(\"calling static method:\", PlayerCharacter.staticMethod(2,3))"
   ]
  },
  {
   "cell_type": "code",
   "execution_count": 16,
   "metadata": {},
   "outputs": [
    {
     "name": "stdout",
     "output_type": "stream",
     "text": [
      "animal type :  dog\n",
      "'joshua' dog is running at 12 km/hr\n",
      "animal type:  cat\n",
      "run method converted : hello\n"
     ]
    }
   ],
   "source": [
    "class Dog():\n",
    "    _animal_type = \"dog\"\n",
    "    \n",
    "    def __init__(self, breed, speed):\n",
    "        self._breed = breed\n",
    "        self._speed = speed\n",
    "        \n",
    "    def run(self):\n",
    "        print(f\"'{self._breed}' dog is running at {self._speed} km/hr\")\n",
    "        \n",
    "dog1 = Dog(\"joshua\", 12)\n",
    "print(\"animal type : \", dog1._animal_type)\n",
    "dog1.run()\n",
    "\n",
    "dog1._animal_type = \"cat\"\n",
    "print(\"animal type: \", dog1._animal_type)\n",
    "\n",
    "dog1.run = \"hello\"\n",
    "print(\"run method converted :\", dog1.run)\n"
   ]
  },
  {
   "cell_type": "markdown",
   "metadata": {},
   "source": [
    "<!-- object -->"
   ]
  },
  {
   "cell_type": "code",
   "execution_count": 19,
   "metadata": {},
   "outputs": [
    {
     "name": "stdout",
     "output_type": "stream",
     "text": [
      "signed in\n",
      "wizard signed in! None\n",
      "signed in\n",
      "archer signed in! None\n",
      "is wizard an instance of Wizard class? True\n",
      "is wizard an instance of User class? True\n",
      "is wizard an instance if highest('object')class? True\n",
      "is wizard a subclass of highest('object') class? True\n"
     ]
    }
   ],
   "source": [
    "class User():\n",
    "    def sign_in(self):\n",
    "        print(\"signed in\")\n",
    "        \n",
    "class Wizard(User):\n",
    "    pass\n",
    "\n",
    "class Archer(User):\n",
    "    pass\n",
    "\n",
    "wizard = Wizard()\n",
    "print(\"wizard signed in!\", wizard.sign_in())\n",
    "\n",
    "archer = Archer()\n",
    "print(\"archer signed in!\", archer.sign_in())\n",
    "\n",
    "print(f\"is wizard an instance of Wizard class? {isinstance(wizard, Wizard)}\")\n",
    "\n",
    "print(f\"is wizard an instance of User class? {isinstance(wizard, User)}\")\n",
    "print(f\"is wizard an instance if highest('object')class? {isinstance(wizard, object)}\")\n",
    "print(f\"is wizard a subclass of highest('object') class? {issubclass(Wizard,object)}\")\n",
    "\n"
   ]
  },
  {
   "cell_type": "code",
   "execution_count": 20,
   "metadata": {},
   "outputs": [
    {
     "name": "stdout",
     "output_type": "stream",
     "text": [
      "Class B's type : Human\n"
     ]
    }
   ],
   "source": [
    "class A():\n",
    "    x=10\n",
    "    \n",
    "    def __init__(self,type):\n",
    "        self.type = type\n",
    "        return self.type\n",
    "\n",
    "class B(A):\n",
    "    def __init__(self,name,type):\n",
    "        super().__init__(type)\n",
    "\n",
    "b = B(\"BBB\",\"Human\")\n",
    "print(f\"Class B's type : {b.type}\")\n"
   ]
  },
  {
   "cell_type": "code",
   "execution_count": 43,
   "metadata": {},
   "outputs": [
    {
     "name": "stdout",
     "output_type": "stream",
     "text": [
      "dd\n",
      "c1 is just walking around\n",
      "c2 is just walking around\n",
      "c3 is just walking around\n"
     ]
    }
   ],
   "source": [
    "class Pets():\n",
    "    animals = []\n",
    "    def __init__(self, animals):\n",
    "        self.animals = animals\n",
    "        \n",
    "    def walk(self):\n",
    "        for animal in self.animals:\n",
    "            print(animal.walk())\n",
    "\n",
    "class Cat():\n",
    "    # class attribute\n",
    "    is_lazy = True\n",
    "            # currentobject, arg,arg   \n",
    "    def __init__(self, name, age):\n",
    "         # objattr \n",
    "        self.name = name\n",
    "        self.age = age\n",
    "        \n",
    "    def walk(self):\n",
    "        return f\"{self.name} is just walking around\"\n",
    "       \n",
    "class Cats(Cat):\n",
    "    def sounds(self, name, sound):\n",
    "        self.name = name\n",
    "        self.sound = sound\n",
    "        \n",
    "# c1 = Cats(\"aa\")\n",
    "# c2 = Cats(\"bb\")\n",
    "# c3 = Cats(\"cc\")\n",
    "\n",
    "# print(getattr(c1, \"sound\"))\n",
    "# print(getattr(c2, \"sound\"))\n",
    "setattr(Cats, \"sound\", \"dd\")\n",
    "print(getattr(Cats, \"sound\"))\n",
    "           \n",
    "#         return f\"{sounds}\"\n",
    "    \n",
    "# class Sally(Cat):\n",
    "#     def sing(self, sounds):\n",
    "#         return f\"{sounds}\"\n",
    "    \n",
    "# class Cattie(Cat):\n",
    "#     def sing(self, sounds):\n",
    "#         return f'{sounds}'\n",
    "\n",
    "# Cat(\"a\", 1)\n",
    "my_cats = [Cat(\"c1\", 12), Cat(\"c2\", 10), Cat(\"c3\", 11)]\n",
    "# my_cats[2].sing(1)\n",
    "my_pets = Pets(my_cats)\n",
    "# print(my_cats)\n",
    "\n",
    "my_pets.walk()"
   ]
  },
  {
   "cell_type": "code",
   "execution_count": 63,
   "metadata": {},
   "outputs": [
    {
     "name": "stdout",
     "output_type": "stream",
     "text": [
      "cimon - age:12 - sound:meow\n",
      "sally - age:2 - sound:None\n",
      "cattie - age:5 - sound:bark\n"
     ]
    }
   ],
   "source": [
    "class Cat:\n",
    "    def __init__(self, name, age, sound = \"None\"):\n",
    "        self.name = name\n",
    "        self.age = age\n",
    "        self.sound = sound\n",
    "        \n",
    "    def set_sound(self, sound):\n",
    "        self.sound = sound\n",
    "    \n",
    "    def get_sound(self):\n",
    "        return f\"{self.name} - age:{self.age} - sound:{self.sound}\"\n",
    "\n",
    "c1 = Cat(\"cimon\",\"12\")\n",
    "c2 = Cat(\"sally\",\"2\")\n",
    "c3 = Cat(\"cattie\",\"5\")\n",
    "\n",
    "c1.set_sound(\"meow\")\n",
    "c3.set_sound(\"bark\")\n",
    "\n",
    "print(c1.get_sound())\n",
    "print(c2.get_sound())\n",
    "print(c3.get_sound())"
   ]
  },
  {
   "cell_type": "code",
   "execution_count": 39,
   "metadata": {},
   "outputs": [
    {
     "name": "stdout",
     "output_type": "stream",
     "text": [
      "0\n",
      "1\n",
      "2\n",
      "3\n",
      "4\n"
     ]
    }
   ],
   "source": [
    "class MyRangeGen():\n",
    "    current = 0\n",
    "    def __init__(self, first, last):\n",
    "        self.first = first\n",
    "        self.last = last\n",
    "    \n",
    "    def __iter__(self):\n",
    "        return self\n",
    "    \n",
    "    def __next__(self):\n",
    "        if MyRangeGen.current < self.last:\n",
    "            num = MyRangeGen.current\n",
    "            MyRangeGen.current += 1\n",
    "            return num\n",
    "        raise StopIteration \n",
    "\n",
    "gen = MyRangeGen(0, 5)\n",
    "for i in gen:\n",
    "    print(i)"
   ]
  },
  {
   "cell_type": "code",
   "execution_count": 40,
   "metadata": {},
   "outputs": [
    {
     "name": "stdout",
     "output_type": "stream",
     "text": [
      "1\n",
      "2\n",
      "3\n"
     ]
    }
   ],
   "source": [
    "def special_iter(iterable):\n",
    "    iterator = iter(iterable)\n",
    "    \n",
    "    while True:\n",
    "        try:\n",
    "            print(next(iterator))\n",
    "        except StopIteration:\n",
    "            break\n",
    "        \n",
    "special_iter([1,2,3])"
   ]
  },
  {
   "cell_type": "code",
   "execution_count": 46,
   "metadata": {},
   "outputs": [
    {
     "name": "stdout",
     "output_type": "stream",
     "text": [
      "0\n",
      "0\n",
      "0\n",
      "0\n",
      "0\n"
     ]
    }
   ],
   "source": [
    "def fib(number):\n",
    "    a = 0\n",
    "    b = 1\n",
    "    for i in range(number):\n",
    "        yield a\n",
    "\n",
    "    temp = a\n",
    "    a = b\n",
    "    b = temp+b\n",
    "for x in fib(5):\n",
    "    print(x)"
   ]
  },
  {
   "cell_type": "code",
   "execution_count": 43,
   "metadata": {},
   "outputs": [
    {
     "name": "stdout",
     "output_type": "stream",
     "text": [
      "range:  range(0, 100)\n",
      "list :  [0, 1, 2, 3, 4, 5, 6, 7, 8, 9, 10, 11, 12, 13, 14, 15, 16, 17, 18, 19, 20, 21, 22, 23, 24, 25, 26, 27, 28, 29, 30, 31, 32, 33, 34, 35, 36, 37, 38, 39, 40, 41, 42, 43, 44, 45, 46, 47, 48, 49, 50, 51, 52, 53, 54, 55, 56, 57, 58, 59, 60, 61, 62, 63, 64, 65, 66, 67, 68, 69, 70, 71, 72, 73, 74, 75, 76, 77, 78, 79, 80, 81, 82, 83, 84, 85, 86, 87, 88, 89, 90, 91, 92, 93, 94, 95, 96, 97, 98, 99]\n",
      "generated list this way:  [0, 1, 2, 3, 4, 5, 6, 7, 8, 9, 10, 11, 12, 13, 14, 15, 16, 17, 18, 19, 20, 21, 22, 23, 24, 25, 26, 27, 28, 29, 30, 31, 32, 33, 34, 35, 36, 37, 38, 39, 40, 41, 42, 43, 44, 45, 46, 47, 48, 49, 50, 51, 52, 53, 54, 55, 56, 57, 58, 59, 60, 61, 62, 63, 64, 65, 66, 67, 68, 69, 70, 71, 72, 73, 74, 75, 76, 77, 78, 79, 80, 81, 82, 83, 84, 85, 86, 87, 88, 89, 90, 91, 92, 93, 94, 95, 96, 97, 98, 99]\n"
     ]
    }
   ],
   "source": [
    "print(\"range: \",range(100))\n",
    "print(\"list : \",list(range(100)))\n",
    "\n",
    "def create_list(num):\n",
    "    generated_list = []\n",
    "    for i in range(num):\n",
    "        generated_list.append(i)\n",
    "    return generated_list\n",
    "print(\"generated list this way: \", create_list(100))"
   ]
  },
  {
   "cell_type": "code",
   "execution_count": 46,
   "metadata": {},
   "outputs": [
    {
     "name": "stdout",
     "output_type": "stream",
     "text": [
      "my_list : [1, 2, 3]\n",
      "multiply by 2 list : [2, 4, 6]\n"
     ]
    }
   ],
   "source": [
    "my_list = [1,2,3]\n",
    "\n",
    "def multiply_by2(listt):\n",
    "    new_list = []\n",
    "    for item in listt:\n",
    "        new_list.append(item*2)\n",
    "    return new_list\n",
    "\n",
    "print(f\"my_list : {my_list}\")\n",
    "print(f'multiply by 2 list : {multiply_by2(my_list)}')"
   ]
  },
  {
   "cell_type": "code",
   "execution_count": 47,
   "metadata": {},
   "outputs": [
    {
     "name": "stdout",
     "output_type": "stream",
     "text": [
      "through mapping: [2, 4, 6]\n"
     ]
    }
   ],
   "source": [
    "my_list = [1,2,3]\n",
    "def multiply_by2(x):\n",
    "    return x*2\n",
    "\n",
    "print(\"through mapping:\",list(map(multiply_by2, my_list)))"
   ]
  },
  {
   "cell_type": "code",
   "execution_count": 48,
   "metadata": {},
   "outputs": [
    {
     "name": "stdout",
     "output_type": "stream",
     "text": [
      "['SURAT', 'VADODARA', 'AHMEDABAD']\n"
     ]
    }
   ],
   "source": [
    "my_list = ['surat', 'vadodara', 'ahmedabad']\n",
    "print(list(map(str.upper, my_list)))\n"
   ]
  },
  {
   "cell_type": "code",
   "execution_count": 49,
   "metadata": {},
   "outputs": [
    {
     "name": "stdout",
     "output_type": "stream",
     "text": [
      "through filtering : [1, 3]\n"
     ]
    }
   ],
   "source": [
    "my_list = [1,2,3]\n",
    "def only_odd(x):\n",
    "    return x%2!=0\n",
    "\n",
    "print(\"through filtering :\",list(filter(only_odd, my_list)))\n"
   ]
  },
  {
   "cell_type": "code",
   "execution_count": 50,
   "metadata": {},
   "outputs": [
    {
     "name": "stdout",
     "output_type": "stream",
     "text": [
      "through zipping : [(1, 10), (2, 20), (3, 30)]\n"
     ]
    }
   ],
   "source": [
    "my_list = [1,2,3]\n",
    "your_list = [10,20,30]\n",
    "\n",
    "print(\"through zipping :\",list(zip(my_list,your_list)))"
   ]
  },
  {
   "cell_type": "code",
   "execution_count": 52,
   "metadata": {},
   "outputs": [
    {
     "name": "stdout",
     "output_type": "stream",
     "text": [
      "0 1\n",
      "1 2\n",
      "3 3\n",
      "6\n"
     ]
    }
   ],
   "source": [
    "from functools import reduce\n",
    "my_list = [1,2,3]\n",
    "\n",
    "def  accumulator(acc, item):\n",
    "    print(acc, item)\n",
    "    return acc+item\n",
    "\n",
    "print(reduce(accumulator, my_list, 0))"
   ]
  },
  {
   "cell_type": "code",
   "execution_count": 59,
   "metadata": {},
   "outputs": [
    {
     "name": "stdout",
     "output_type": "stream",
     "text": [
      "['h', 'e', 'l', 'l', 'o']\n",
      "{1, 2, 3, 4, 5, 6, 7, 8, 9}\n",
      "{2, 4, 6, 8, 10, 12, 14, 16, 18}\n",
      "{64, 1, 4, 36, 9, 16, 49, 81, 25}\n",
      "\n",
      "................\n",
      "\n",
      "List and set comprehension\n",
      "['h', 'e', 'l', 'l', 'o']\n",
      "{1, 2, 3, 4, 5, 6, 7, 8, 9}\n",
      "{2, 4, 6, 8, 10, 12, 14, 16, 18}\n",
      "{64, 1, 4, 36, 9, 16, 49, 81, 25}\n"
     ]
    }
   ],
   "source": [
    "my_set1 = [char for char in 'hello']\n",
    "print(my_set1)\n",
    "\n",
    "my_set2 = {value for value in range(1,10)}\n",
    "print(my_set2)\n",
    "\n",
    "my_set3 = {value*2 for value in range(1,10)}\n",
    "print(my_set3)\n",
    "\n",
    "my_set4 = {value**2 for value in range(1,10)}\n",
    "print(my_set4)\n",
    "print(\"\\n................\")\n",
    "print(\"\\nList and set comprehension\")\n",
    "print(f'{my_set1}\\n{my_set2}\\n{my_set3}\\n{my_set4}')"
   ]
  },
  {
   "cell_type": "code",
   "execution_count": 58,
   "metadata": {},
   "outputs": [
    {
     "name": "stdout",
     "output_type": "stream",
     "text": [
      "\n",
      "dictionary comprehension\n",
      "{'a': 2}\n"
     ]
    }
   ],
   "source": [
    "print(\"\\ndictionary comprehension\")\n",
    "simple_dictionary = {\n",
    "    'a' : 2,\n",
    "    'b' : 5    \n",
    "}\n",
    "\n",
    "new_dictionary = {key:value for key,value in simple_dictionary.items() if value%2==0}\n",
    "print(new_dictionary)"
   ]
  },
  {
   "cell_type": "code",
   "execution_count": 2,
   "metadata": {},
   "outputs": [
    {
     "name": "stdout",
     "output_type": "stream",
     "text": [
      "{1: 2, 2: 4, 3: 6}\n"
     ]
    }
   ],
   "source": [
    "my_list = [1,2,3]\n",
    "new_dictionary = {k:k*2 for k in my_list}\n",
    "print(new_dictionary)"
   ]
  },
  {
   "cell_type": "code",
   "execution_count": 1,
   "metadata": {},
   "outputs": [
    {
     "name": "stdout",
     "output_type": "stream",
     "text": [
      "displaying items that are multiple from a list\n",
      "{'b', 'a', 'd'}\n"
     ]
    }
   ],
   "source": [
    "print(\"displaying items that are multiple from a list\")\n",
    "my_list = ['a','b','c','d','d','a','b','e','f','g']\n",
    "\n",
    "duplicates=[]\n",
    "new_list = set([item for item in my_list if my_list.count(item)>1])\n",
    "print(new_list)"
   ]
  },
  {
   "cell_type": "code",
   "execution_count": 123,
   "metadata": {},
   "outputs": [
    {
     "name": "stdout",
     "output_type": "stream",
     "text": [
      "['*', 2, '*', 4, '*', 6, '*', 8]\n",
      "['*', 2, '*', 4, '*', 6, '*', 8]\n"
     ]
    }
   ],
   "source": [
    "my_list = [1, 2, 3, 4, 5, 6, 7, 8]\n",
    "new_list = [i if(i%2)==0 else \"*\" for i in my_list]\n",
    "print(new_list)\n",
    "\n",
    "# # # # #\n",
    "\n",
    "new_list = []\n",
    "for i in my_list:\n",
    "    if i%2==0:\n",
    "        new_list.append(i)\n",
    "    else:\n",
    "        new_list.append(\"*\")\n",
    "        \n",
    "print(new_list)\n"
   ]
  }
 ],
 "metadata": {
  "kernelspec": {
   "display_name": "Python 3.8.10 64-bit",
   "language": "python",
   "name": "python3"
  },
  "language_info": {
   "codemirror_mode": {
    "name": "ipython",
    "version": 3
   },
   "file_extension": ".py",
   "mimetype": "text/x-python",
   "name": "python",
   "nbconvert_exporter": "python",
   "pygments_lexer": "ipython3",
   "version": "3.8.10"
  },
  "orig_nbformat": 4,
  "vscode": {
   "interpreter": {
    "hash": "31f2aee4e71d21fbe5cf8b01ff0e069b9275f58929596ceb00d14d90e3e16cd6"
   }
  }
 },
 "nbformat": 4,
 "nbformat_minor": 2
}
